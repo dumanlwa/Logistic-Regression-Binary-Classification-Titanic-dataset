{
 "cells": [
  {
   "cell_type": "markdown",
   "id": "fcfbdd37",
   "metadata": {},
   "source": [
    "# In this notebook, I implemented a logistic regression for binary classification. 3-way holdout cross-validation and L2 (Ridge) regularization techniques are used to improve the performance of the model. Using the algorithm I predicted whether an individual would survive or not in Titanic."
   ]
  },
  {
   "cell_type": "code",
   "execution_count": 28,
   "id": "877e520b",
   "metadata": {},
   "outputs": [],
   "source": [
    "import numpy as np\n",
    "import matplotlib.pyplot as plt\n",
    "import pandas as pd\n",
    "import seaborn as sns\n",
    "from sklearn import linear_model\n",
    "from sklearn.linear_model import Ridge\n",
    "from sklearn.preprocessing import PolynomialFeatures\n",
    "from sklearn.linear_model import LogisticRegression\n",
    "from sklearn.model_selection import GridSearchCV\n",
    "from sklearn.preprocessing import StandardScaler\n",
    "from sklearn.model_selection import train_test_split\n",
    "from sklearn.metrics import r2_score\n",
    "from sklearn.metrics import accuracy_score\n",
    "from sklearn.feature_selection import mutual_info_classif\n",
    "\n",
    "import warnings\n",
    "warnings.filterwarnings('ignore')"
   ]
  },
  {
   "cell_type": "code",
   "execution_count": 29,
   "id": "14f91a44",
   "metadata": {},
   "outputs": [
    {
     "data": {
      "text/html": [
       "<div>\n",
       "<style scoped>\n",
       "    .dataframe tbody tr th:only-of-type {\n",
       "        vertical-align: middle;\n",
       "    }\n",
       "\n",
       "    .dataframe tbody tr th {\n",
       "        vertical-align: top;\n",
       "    }\n",
       "\n",
       "    .dataframe thead th {\n",
       "        text-align: right;\n",
       "    }\n",
       "</style>\n",
       "<table border=\"1\" class=\"dataframe\">\n",
       "  <thead>\n",
       "    <tr style=\"text-align: right;\">\n",
       "      <th></th>\n",
       "      <th>PassengerId</th>\n",
       "      <th>Survived</th>\n",
       "      <th>Pclass</th>\n",
       "      <th>Name</th>\n",
       "      <th>Sex</th>\n",
       "      <th>Age</th>\n",
       "      <th>SibSp</th>\n",
       "      <th>Parch</th>\n",
       "      <th>Ticket</th>\n",
       "      <th>Fare</th>\n",
       "      <th>Cabin</th>\n",
       "      <th>Embarked</th>\n",
       "    </tr>\n",
       "  </thead>\n",
       "  <tbody>\n",
       "    <tr>\n",
       "      <th>0</th>\n",
       "      <td>1</td>\n",
       "      <td>0</td>\n",
       "      <td>3</td>\n",
       "      <td>Braund, Mr. Owen Harris</td>\n",
       "      <td>male</td>\n",
       "      <td>22.0</td>\n",
       "      <td>1</td>\n",
       "      <td>0</td>\n",
       "      <td>A/5 21171</td>\n",
       "      <td>7.2500</td>\n",
       "      <td>NaN</td>\n",
       "      <td>S</td>\n",
       "    </tr>\n",
       "    <tr>\n",
       "      <th>1</th>\n",
       "      <td>2</td>\n",
       "      <td>1</td>\n",
       "      <td>1</td>\n",
       "      <td>Cumings, Mrs. John Bradley (Florence Briggs Th...</td>\n",
       "      <td>female</td>\n",
       "      <td>38.0</td>\n",
       "      <td>1</td>\n",
       "      <td>0</td>\n",
       "      <td>PC 17599</td>\n",
       "      <td>71.2833</td>\n",
       "      <td>C85</td>\n",
       "      <td>C</td>\n",
       "    </tr>\n",
       "    <tr>\n",
       "      <th>2</th>\n",
       "      <td>3</td>\n",
       "      <td>1</td>\n",
       "      <td>3</td>\n",
       "      <td>Heikkinen, Miss. Laina</td>\n",
       "      <td>female</td>\n",
       "      <td>26.0</td>\n",
       "      <td>0</td>\n",
       "      <td>0</td>\n",
       "      <td>STON/O2. 3101282</td>\n",
       "      <td>7.9250</td>\n",
       "      <td>NaN</td>\n",
       "      <td>S</td>\n",
       "    </tr>\n",
       "    <tr>\n",
       "      <th>3</th>\n",
       "      <td>4</td>\n",
       "      <td>1</td>\n",
       "      <td>1</td>\n",
       "      <td>Futrelle, Mrs. Jacques Heath (Lily May Peel)</td>\n",
       "      <td>female</td>\n",
       "      <td>35.0</td>\n",
       "      <td>1</td>\n",
       "      <td>0</td>\n",
       "      <td>113803</td>\n",
       "      <td>53.1000</td>\n",
       "      <td>C123</td>\n",
       "      <td>S</td>\n",
       "    </tr>\n",
       "    <tr>\n",
       "      <th>4</th>\n",
       "      <td>5</td>\n",
       "      <td>0</td>\n",
       "      <td>3</td>\n",
       "      <td>Allen, Mr. William Henry</td>\n",
       "      <td>male</td>\n",
       "      <td>35.0</td>\n",
       "      <td>0</td>\n",
       "      <td>0</td>\n",
       "      <td>373450</td>\n",
       "      <td>8.0500</td>\n",
       "      <td>NaN</td>\n",
       "      <td>S</td>\n",
       "    </tr>\n",
       "  </tbody>\n",
       "</table>\n",
       "</div>"
      ],
      "text/plain": [
       "   PassengerId  Survived  Pclass  \\\n",
       "0            1         0       3   \n",
       "1            2         1       1   \n",
       "2            3         1       3   \n",
       "3            4         1       1   \n",
       "4            5         0       3   \n",
       "\n",
       "                                                Name     Sex   Age  SibSp  \\\n",
       "0                            Braund, Mr. Owen Harris    male  22.0      1   \n",
       "1  Cumings, Mrs. John Bradley (Florence Briggs Th...  female  38.0      1   \n",
       "2                             Heikkinen, Miss. Laina  female  26.0      0   \n",
       "3       Futrelle, Mrs. Jacques Heath (Lily May Peel)  female  35.0      1   \n",
       "4                           Allen, Mr. William Henry    male  35.0      0   \n",
       "\n",
       "   Parch            Ticket     Fare Cabin Embarked  \n",
       "0      0         A/5 21171   7.2500   NaN        S  \n",
       "1      0          PC 17599  71.2833   C85        C  \n",
       "2      0  STON/O2. 3101282   7.9250   NaN        S  \n",
       "3      0            113803  53.1000  C123        S  \n",
       "4      0            373450   8.0500   NaN        S  "
      ]
     },
     "execution_count": 29,
     "metadata": {},
     "output_type": "execute_result"
    }
   ],
   "source": [
    "df=pd.read_csv('train.csv')\n",
    "df.head()"
   ]
  },
  {
   "cell_type": "code",
   "execution_count": 30,
   "id": "8b1c613b",
   "metadata": {},
   "outputs": [
    {
     "data": {
      "text/plain": [
       "(891, 12)"
      ]
     },
     "execution_count": 30,
     "metadata": {},
     "output_type": "execute_result"
    }
   ],
   "source": [
    "df.shape"
   ]
  },
  {
   "cell_type": "code",
   "execution_count": 31,
   "id": "02305cd5",
   "metadata": {},
   "outputs": [
    {
     "name": "stdout",
     "output_type": "stream",
     "text": [
      "<class 'pandas.core.frame.DataFrame'>\n",
      "RangeIndex: 891 entries, 0 to 890\n",
      "Data columns (total 12 columns):\n",
      " #   Column       Non-Null Count  Dtype  \n",
      "---  ------       --------------  -----  \n",
      " 0   PassengerId  891 non-null    int64  \n",
      " 1   Survived     891 non-null    int64  \n",
      " 2   Pclass       891 non-null    int64  \n",
      " 3   Name         891 non-null    object \n",
      " 4   Sex          891 non-null    object \n",
      " 5   Age          714 non-null    float64\n",
      " 6   SibSp        891 non-null    int64  \n",
      " 7   Parch        891 non-null    int64  \n",
      " 8   Ticket       891 non-null    object \n",
      " 9   Fare         891 non-null    float64\n",
      " 10  Cabin        204 non-null    object \n",
      " 11  Embarked     889 non-null    object \n",
      "dtypes: float64(2), int64(5), object(5)\n",
      "memory usage: 83.7+ KB\n"
     ]
    }
   ],
   "source": [
    "df.info()"
   ]
  },
  {
   "cell_type": "markdown",
   "id": "85787935",
   "metadata": {},
   "source": [
    "We can see that some columns have missing values."
   ]
  },
  {
   "cell_type": "code",
   "execution_count": 32,
   "id": "5bd5d835",
   "metadata": {},
   "outputs": [
    {
     "data": {
      "text/plain": [
       "array([nan, 'C85', 'C123', 'E46', 'G6', 'C103', 'D56', 'A6',\n",
       "       'C23 C25 C27', 'B78', 'D33', 'B30', 'C52', 'B28', 'C83', 'F33',\n",
       "       'F G73', 'E31', 'A5', 'D10 D12', 'D26', 'C110', 'B58 B60', 'E101',\n",
       "       'F E69', 'D47', 'B86', 'F2', 'C2', 'E33', 'B19', 'A7', 'C49', 'F4',\n",
       "       'A32', 'B4', 'B80', 'A31', 'D36', 'D15', 'C93', 'C78', 'D35',\n",
       "       'C87', 'B77', 'E67', 'B94', 'C125', 'C99', 'C118', 'D7', 'A19',\n",
       "       'B49', 'D', 'C22 C26', 'C106', 'C65', 'E36', 'C54',\n",
       "       'B57 B59 B63 B66', 'C7', 'E34', 'C32', 'B18', 'C124', 'C91', 'E40',\n",
       "       'T', 'C128', 'D37', 'B35', 'E50', 'C82', 'B96 B98', 'E10', 'E44',\n",
       "       'A34', 'C104', 'C111', 'C92', 'E38', 'D21', 'E12', 'E63', 'A14',\n",
       "       'B37', 'C30', 'D20', 'B79', 'E25', 'D46', 'B73', 'C95', 'B38',\n",
       "       'B39', 'B22', 'C86', 'C70', 'A16', 'C101', 'C68', 'A10', 'E68',\n",
       "       'B41', 'A20', 'D19', 'D50', 'D9', 'A23', 'B50', 'A26', 'D48',\n",
       "       'E58', 'C126', 'B71', 'B51 B53 B55', 'D49', 'B5', 'B20', 'F G63',\n",
       "       'C62 C64', 'E24', 'C90', 'C45', 'E8', 'B101', 'D45', 'C46', 'D30',\n",
       "       'E121', 'D11', 'E77', 'F38', 'B3', 'D6', 'B82 B84', 'D17', 'A36',\n",
       "       'B102', 'B69', 'E49', 'C47', 'D28', 'E17', 'A24', 'C50', 'B42',\n",
       "       'C148'], dtype=object)"
      ]
     },
     "execution_count": 32,
     "metadata": {},
     "output_type": "execute_result"
    }
   ],
   "source": [
    "df['Cabin'].unique()"
   ]
  },
  {
   "cell_type": "code",
   "execution_count": 33,
   "id": "507c38d7",
   "metadata": {},
   "outputs": [],
   "source": [
    "df=df.drop('Cabin',axis=1)"
   ]
  },
  {
   "cell_type": "code",
   "execution_count": 34,
   "id": "18cdef09",
   "metadata": {},
   "outputs": [],
   "source": [
    "df=df.dropna(subset='Embarked')"
   ]
  },
  {
   "cell_type": "markdown",
   "id": "8b53d544",
   "metadata": {},
   "source": [
    "'Cabin' column has only 204 filled rows, that is why I consider it as a tiny portion, and it can become complicated to impute other rows. Hence, I decided to delete the whole column. Also, there are 2 missing values in 'Embarked' column, and we can delete these 2 rows from dataset."
   ]
  },
  {
   "cell_type": "code",
   "execution_count": 35,
   "id": "56ff7d65",
   "metadata": {},
   "outputs": [
    {
     "name": "stdout",
     "output_type": "stream",
     "text": [
      "<class 'pandas.core.frame.DataFrame'>\n",
      "Int64Index: 889 entries, 0 to 890\n",
      "Data columns (total 11 columns):\n",
      " #   Column       Non-Null Count  Dtype  \n",
      "---  ------       --------------  -----  \n",
      " 0   PassengerId  889 non-null    int64  \n",
      " 1   Survived     889 non-null    int64  \n",
      " 2   Pclass       889 non-null    int64  \n",
      " 3   Name         889 non-null    object \n",
      " 4   Sex          889 non-null    object \n",
      " 5   Age          712 non-null    float64\n",
      " 6   SibSp        889 non-null    int64  \n",
      " 7   Parch        889 non-null    int64  \n",
      " 8   Ticket       889 non-null    object \n",
      " 9   Fare         889 non-null    float64\n",
      " 10  Embarked     889 non-null    object \n",
      "dtypes: float64(2), int64(5), object(4)\n",
      "memory usage: 83.3+ KB\n"
     ]
    }
   ],
   "source": [
    "df.info()"
   ]
  },
  {
   "cell_type": "markdown",
   "id": "604f51c7",
   "metadata": {},
   "source": [
    "We see that Age column has some missign values. As it is a numerical value, we are able to impute it with measure of central tendency (mode, median, or mean)."
   ]
  },
  {
   "cell_type": "code",
   "execution_count": 36,
   "id": "36849d9f",
   "metadata": {},
   "outputs": [
    {
     "data": {
      "text/plain": [
       "<AxesSubplot:xlabel='Pclass', ylabel='Age'>"
      ]
     },
     "execution_count": 36,
     "metadata": {},
     "output_type": "execute_result"
    },
    {
     "data": {
      "image/png": "[encoded data removed]",
      "text/plain": [
       "<Figure size 600x400 with 1 Axes>"
      ]
     },
     "metadata": {},
     "output_type": "display_data"
    }
   ],
   "source": [
    "plt.figure(figsize=(6,4))\n",
    "sns.boxplot(x=df['Pclass'],y=df['Age'],hue=df['Sex'])"
   ]
  },
  {
   "cell_type": "markdown",
   "id": "a77ad175",
   "metadata": {},
   "source": [
    "It can be noted from the above that bix plot distributions are different for Pclass categories. Also, for each category average males age is larger compared to females. Hence, instead of imputing overall mean of the whole dataset we can do it separately for each Pclass (ticket class) and age of the passenger."
   ]
  },
  {
   "cell_type": "code",
   "execution_count": 37,
   "id": "d3d9b684",
   "metadata": {},
   "outputs": [
    {
     "data": {
      "text/plain": [
       "Pclass  Sex   \n",
       "1       female    34.240964\n",
       "        male      41.281386\n",
       "2       female    28.722973\n",
       "        male      30.740707\n",
       "3       female    21.750000\n",
       "        male      26.507589\n",
       "Name: Age, dtype: float64"
      ]
     },
     "execution_count": 37,
     "metadata": {},
     "output_type": "execute_result"
    }
   ],
   "source": [
    "df.groupby(['Pclass','Sex'])['Age'].mean()"
   ]
  },
  {
   "cell_type": "code",
   "execution_count": 38,
   "id": "04cc2582",
   "metadata": {},
   "outputs": [],
   "source": [
    "def fill_age(columns):\n",
    "    Pclass=columns[0]\n",
    "    Sex=columns[1]\n",
    "    Age=columns[2]\n",
    "    if pd.isnull(Age):\n",
    "        if Pclass==1 and Sex=='female':\n",
    "            return 34\n",
    "        elif Pclass==1 and Sex=='male':\n",
    "            return 41\n",
    "        elif Pclass==2 and Sex=='female':\n",
    "            return 29\n",
    "        elif Pclass==2 and Sex=='male':\n",
    "            return 31\n",
    "        elif Pclass==3 and Sex=='female':\n",
    "            return 22\n",
    "        else:\n",
    "            return 27\n",
    "        \n",
    "    else:\n",
    "        return Age"
   ]
  },
  {
   "cell_type": "code",
   "execution_count": 39,
   "id": "5e6e12f2",
   "metadata": {},
   "outputs": [],
   "source": [
    "df['Age']=df[['Pclass','Sex','Age']].apply(fill_age,axis=1)"
   ]
  },
  {
   "cell_type": "code",
   "execution_count": 40,
   "id": "5e4e6fb6",
   "metadata": {},
   "outputs": [
    {
     "name": "stdout",
     "output_type": "stream",
     "text": [
      "<class 'pandas.core.frame.DataFrame'>\n",
      "Int64Index: 889 entries, 0 to 890\n",
      "Data columns (total 11 columns):\n",
      " #   Column       Non-Null Count  Dtype  \n",
      "---  ------       --------------  -----  \n",
      " 0   PassengerId  889 non-null    int64  \n",
      " 1   Survived     889 non-null    int64  \n",
      " 2   Pclass       889 non-null    int64  \n",
      " 3   Name         889 non-null    object \n",
      " 4   Sex          889 non-null    object \n",
      " 5   Age          889 non-null    float64\n",
      " 6   SibSp        889 non-null    int64  \n",
      " 7   Parch        889 non-null    int64  \n",
      " 8   Ticket       889 non-null    object \n",
      " 9   Fare         889 non-null    float64\n",
      " 10  Embarked     889 non-null    object \n",
      "dtypes: float64(2), int64(5), object(4)\n",
      "memory usage: 83.3+ KB\n"
     ]
    }
   ],
   "source": [
    "df.info()"
   ]
  },
  {
   "cell_type": "code",
   "execution_count": 41,
   "id": "47f1558c",
   "metadata": {},
   "outputs": [
    {
     "data": {
      "text/plain": [
       "0      False\n",
       "1      False\n",
       "2      False\n",
       "3      False\n",
       "4      False\n",
       "       ...  \n",
       "886    False\n",
       "887    False\n",
       "888    False\n",
       "889    False\n",
       "890    False\n",
       "Length: 889, dtype: bool"
      ]
     },
     "execution_count": 41,
     "metadata": {},
     "output_type": "execute_result"
    }
   ],
   "source": [
    "df.duplicated()"
   ]
  },
  {
   "cell_type": "markdown",
   "id": "6031cae7",
   "metadata": {},
   "source": [
    "There is no duplicated data in the dataset."
   ]
  },
  {
   "cell_type": "code",
   "execution_count": 42,
   "id": "228e8088",
   "metadata": {},
   "outputs": [
    {
     "name": "stdout",
     "output_type": "stream",
     "text": [
      "True\n",
      "True\n",
      "True\n",
      "True\n",
      "True\n",
      "True\n",
      "True\n",
      "True\n",
      "True\n",
      "True\n"
     ]
    }
   ],
   "source": [
    "for i in range (0,10):\n",
    "    sim='True'\n",
    "    if (df.iloc[:,i]!=df.iloc[:,i][0]).all():\n",
    "        sim='False'\n",
    "    print(sim)\n"
   ]
  },
  {
   "cell_type": "markdown",
   "id": "5c6b2f17",
   "metadata": {},
   "source": [
    "\"True\" means that none column contains a identical value for all rows."
   ]
  },
  {
   "cell_type": "code",
   "execution_count": 43,
   "id": "0c43fe18",
   "metadata": {},
   "outputs": [
    {
     "data": {
      "image/png": "[encoded data removed]",
      "text/plain": [
       "<Figure size 2000x600 with 3 Axes>"
      ]
     },
     "metadata": {},
     "output_type": "display_data"
    }
   ],
   "source": [
    "plt.figure(figsize=(20,6))\n",
    "\n",
    "plt.subplot(1,3,1)\n",
    "sns.countplot(df['Survived'],hue=df['Sex'])\n",
    "\n",
    "plt.subplot(1,3,2)\n",
    "sns.countplot(df['Survived'],hue=df['Pclass'])\n",
    "\n",
    "plt.subplot(1,3,3)\n",
    "sns.countplot(df['Survived'],hue=df['Embarked'])\n",
    "plt.show()"
   ]
  },
  {
   "cell_type": "code",
   "execution_count": 44,
   "id": "55c4520f",
   "metadata": {},
   "outputs": [
    {
     "name": "stdout",
     "output_type": "stream",
     "text": [
      "      Sex  Survived\n",
      "0  female  0.740385\n",
      "1    male  0.188908\n",
      "\n",
      "   Pclass  Survived\n",
      "0       1  0.626168\n",
      "1       2  0.472826\n",
      "2       3  0.242363\n",
      "\n",
      "  Embarked  Survived\n",
      "0        C  0.553571\n",
      "1        Q  0.389610\n",
      "2        S  0.336957\n"
     ]
    }
   ],
   "source": [
    "print (df[['Sex', 'Survived']].groupby(['Sex'], as_index=False).mean())\n",
    "print()\n",
    "print (df[['Pclass', 'Survived']].groupby(['Pclass'], as_index=False).mean())\n",
    "print()\n",
    "print (df[['Embarked', 'Survived']].groupby(['Embarked'], as_index=False).mean())"
   ]
  },
  {
   "cell_type": "markdown",
   "id": "90a1948d",
   "metadata": {},
   "source": [
    "On average, a larger portion of females, people with class 1 and those who embarked in C-point survived in Titanic. Therefore, these features seem to important for future model."
   ]
  },
  {
   "cell_type": "code",
   "execution_count": 45,
   "id": "56e505ad",
   "metadata": {},
   "outputs": [
    {
     "data": {
      "text/plain": [
       "<AxesSubplot:xlabel='Survived', ylabel='Fare'>"
      ]
     },
     "execution_count": 45,
     "metadata": {},
     "output_type": "execute_result"
    },
    {
     "data": {
      "image/png": "[encoded data removed]",
      "text/plain": [
       "<Figure size 600x400 with 1 Axes>"
      ]
     },
     "metadata": {},
     "output_type": "display_data"
    }
   ],
   "source": [
    "plt.figure(figsize=(6,4))\n",
    "sns.boxplot(x=df['Survived'],y=df['Fare'])\n"
   ]
  },
  {
   "cell_type": "code",
   "execution_count": 46,
   "id": "9e48de20",
   "metadata": {},
   "outputs": [
    {
     "data": {
      "image/png": "[encoded data removed]",
      "text/plain": [
       "<Figure size 500x300 with 1 Axes>"
      ]
     },
     "metadata": {},
     "output_type": "display_data"
    }
   ],
   "source": [
    "g=pd.DataFrame(df.groupby(['Survived'])['Fare'].mean().sort_values(ascending=False))\n",
    "g.plot.bar(figsize=(5,3),rot=0)\n",
    "plt.title('Survived vs Average Fare')\n",
    "plt.show()"
   ]
  },
  {
   "cell_type": "code",
   "execution_count": 47,
   "id": "b650a1ee",
   "metadata": {},
   "outputs": [
    {
     "data": {
      "image/png": "[encoded data removed]",
      "text/plain": [
       "<Figure size 500x300 with 1 Axes>"
      ]
     },
     "metadata": {},
     "output_type": "display_data"
    }
   ],
   "source": [
    "g=pd.DataFrame(df.groupby(['Pclass'])['Fare'].mean().sort_values(ascending=False))\n",
    "g.plot.bar(figsize=(5,3),rot=0)\n",
    "plt.show()"
   ]
  },
  {
   "cell_type": "markdown",
   "id": "f256e8cb",
   "metadata": {},
   "source": [
    "'Fare' feature might seem to be significant one as there is more survived people with higher average 'Fare'. However, we see that the more 'Fare' is the higher 'Pclass' is. So, we can use only one feature (Pclass)."
   ]
  },
  {
   "cell_type": "code",
   "execution_count": 48,
   "id": "6888b86f",
   "metadata": {},
   "outputs": [
    {
     "data": {
      "image/png": "[encoded data removed]",
      "text/plain": [
       "<Figure size 500x300 with 1 Axes>"
      ]
     },
     "metadata": {},
     "output_type": "display_data"
    }
   ],
   "source": [
    "g=pd.DataFrame(df.groupby(['Survived'])['Age'].mean().sort_values(ascending=False))\n",
    "g.plot.bar(figsize=(5,3),rot=0)\n",
    "plt.title('Survived vs Average Fare')\n",
    "plt.show()"
   ]
  },
  {
   "cell_type": "markdown",
   "id": "47ae5ff5",
   "metadata": {},
   "source": [
    "The above barplot gives us an unclear idea about the effect of 'Age'. So it is better idea to divide values into several categories, and then compare them."
   ]
  },
  {
   "cell_type": "code",
   "execution_count": 49,
   "id": "d8302a56",
   "metadata": {},
   "outputs": [
    {
     "data": {
      "image/png": "[encoded data removed]",
      "text/plain": [
       "<Figure size 600x400 with 1 Axes>"
      ]
     },
     "metadata": {},
     "output_type": "display_data"
    },
    {
     "name": "stdout",
     "output_type": "stream",
     "text": [
      "  CategoricalAge  Survived\n",
      "0  (-0.08, 20.0]  0.455556\n",
      "1   (20.0, 40.0]  0.367837\n",
      "2   (40.0, 60.0]  0.374150\n",
      "3   (60.0, 80.0]  0.190476\n"
     ]
    }
   ],
   "source": [
    "plt.figure(figsize=(6,4))\n",
    "df['Age'] = df['Age'].astype(int)\n",
    "df['CategoricalAge'] = pd.cut(df['Age'], 4)\n",
    "sns.countplot(df['Survived'],hue=df['CategoricalAge'])\n",
    "plt.show()\n",
    "print (df[['CategoricalAge', 'Survived']].groupby(['CategoricalAge'], as_index=False).mean())"
   ]
  },
  {
   "cell_type": "markdown",
   "id": "0b11508e",
   "metadata": {},
   "source": [
    "These countplots demonstrates that younger groups has higher chances to survive."
   ]
  },
  {
   "cell_type": "code",
   "execution_count": 50,
   "id": "811cbb00",
   "metadata": {},
   "outputs": [
    {
     "data": {
      "image/png": "[encoded data removed]",
      "text/plain": [
       "<Figure size 2000x600 with 2 Axes>"
      ]
     },
     "metadata": {},
     "output_type": "display_data"
    }
   ],
   "source": [
    "plt.figure(figsize=(20,6))\n",
    "\n",
    "plt.subplot(1,2,1)\n",
    "sns.countplot(df['Survived'],hue=df['SibSp'])\n",
    "\n",
    "plt.subplot(1,2,2)\n",
    "sns.countplot(df['Survived'],hue=df['Parch'])\n",
    "\n",
    "plt.show()"
   ]
  },
  {
   "cell_type": "markdown",
   "id": "c06978f6",
   "metadata": {},
   "source": [
    "There is a common pattern for both 'SibSp' and 'Parch' features. On average, survived number of people, who has fewer siblings or parents/children is larger. We can create a new feature, which will count overall family size."
   ]
  },
  {
   "cell_type": "code",
   "execution_count": 51,
   "id": "d089800a",
   "metadata": {},
   "outputs": [],
   "source": [
    "df['Famil']=df['SibSp']+df['Parch']+1\n"
   ]
  },
  {
   "cell_type": "code",
   "execution_count": 52,
   "id": "fa0b188e",
   "metadata": {},
   "outputs": [
    {
     "data": {
      "image/png": "[encoded data removed]",
      "text/plain": [
       "<Figure size 640x480 with 1 Axes>"
      ]
     },
     "metadata": {},
     "output_type": "display_data"
    },
    {
     "name": "stdout",
     "output_type": "stream",
     "text": [
      "   Famil  Survived\n",
      "0      1  0.300935\n",
      "1      2  0.552795\n",
      "2      3  0.578431\n",
      "3      4  0.724138\n",
      "4      5  0.200000\n",
      "5      6  0.136364\n",
      "6      7  0.333333\n",
      "7      8  0.000000\n",
      "8     11  0.000000\n"
     ]
    }
   ],
   "source": [
    "sns.countplot(df['Survived'],hue=df['Famil'])\n",
    "plt.legend(loc=1)\n",
    "plt.show()\n",
    "print (df[['Famil', 'Survived']].groupby(['Famil'], as_index=False).mean())"
   ]
  },
  {
   "cell_type": "code",
   "execution_count": 53,
   "id": "cc7668c4",
   "metadata": {},
   "outputs": [],
   "source": [
    "x_chi=df[['Pclass','Sex','Embarked']]\n",
    "y_chi=df[['Survived']]"
   ]
  },
  {
   "cell_type": "markdown",
   "id": "ab509d61",
   "metadata": {},
   "source": [
    "To conduct a chi-square test I created additional dataframes for more convenient use."
   ]
  },
  {
   "cell_type": "code",
   "execution_count": 54,
   "id": "8294630f",
   "metadata": {},
   "outputs": [],
   "source": [
    "x_chi['Sex']=np.where(x_chi['Sex']==\"male\",1,0)\n",
    "\n",
    "ordinal_label_emb={k: i for i, k in enumerate (x_chi['Embarked'].unique(),0)}\n",
    "x_chi['Embarked']=x_chi['Embarked'].map(ordinal_label_emb)"
   ]
  },
  {
   "cell_type": "code",
   "execution_count": 55,
   "id": "ad55e07e",
   "metadata": {},
   "outputs": [
    {
     "data": {
      "text/html": [
       "<div>\n",
       "<style scoped>\n",
       "    .dataframe tbody tr th:only-of-type {\n",
       "        vertical-align: middle;\n",
       "    }\n",
       "\n",
       "    .dataframe tbody tr th {\n",
       "        vertical-align: top;\n",
       "    }\n",
       "\n",
       "    .dataframe thead th {\n",
       "        text-align: right;\n",
       "    }\n",
       "</style>\n",
       "<table border=\"1\" class=\"dataframe\">\n",
       "  <thead>\n",
       "    <tr style=\"text-align: right;\">\n",
       "      <th></th>\n",
       "      <th>Pclass</th>\n",
       "      <th>Sex</th>\n",
       "      <th>Embarked</th>\n",
       "    </tr>\n",
       "  </thead>\n",
       "  <tbody>\n",
       "    <tr>\n",
       "      <th>0</th>\n",
       "      <td>3</td>\n",
       "      <td>1</td>\n",
       "      <td>0</td>\n",
       "    </tr>\n",
       "    <tr>\n",
       "      <th>1</th>\n",
       "      <td>1</td>\n",
       "      <td>0</td>\n",
       "      <td>1</td>\n",
       "    </tr>\n",
       "    <tr>\n",
       "      <th>2</th>\n",
       "      <td>3</td>\n",
       "      <td>0</td>\n",
       "      <td>0</td>\n",
       "    </tr>\n",
       "    <tr>\n",
       "      <th>3</th>\n",
       "      <td>1</td>\n",
       "      <td>0</td>\n",
       "      <td>0</td>\n",
       "    </tr>\n",
       "    <tr>\n",
       "      <th>4</th>\n",
       "      <td>3</td>\n",
       "      <td>1</td>\n",
       "      <td>0</td>\n",
       "    </tr>\n",
       "  </tbody>\n",
       "</table>\n",
       "</div>"
      ],
      "text/plain": [
       "   Pclass  Sex  Embarked\n",
       "0       3    1         0\n",
       "1       1    0         1\n",
       "2       3    0         0\n",
       "3       1    0         0\n",
       "4       3    1         0"
      ]
     },
     "execution_count": 55,
     "metadata": {},
     "output_type": "execute_result"
    }
   ],
   "source": [
    "x_chi.head()"
   ]
  },
  {
   "cell_type": "code",
   "execution_count": 56,
   "id": "5086bad9",
   "metadata": {},
   "outputs": [
    {
     "name": "stdout",
     "output_type": "stream",
     "text": [
      "P-value:\n"
     ]
    },
    {
     "data": {
      "text/plain": [
       "Sex         1.108034e-21\n",
       "Pclass      4.029368e-08\n",
       "Embarked    6.194960e-04\n",
       "dtype: float64"
      ]
     },
     "execution_count": 56,
     "metadata": {},
     "output_type": "execute_result"
    }
   ],
   "source": [
    "from sklearn.feature_selection import chi2\n",
    "f_p_values=chi2(x_chi,y_chi)\n",
    "\n",
    "p_values=pd.Series(f_p_values[1])\n",
    "p_values.index=x_chi.columns\n",
    "print(f'P-value:')\n",
    "p_values.sort_values(ascending=True)"
   ]
  },
  {
   "cell_type": "code",
   "execution_count": 57,
   "id": "336d6286",
   "metadata": {},
   "outputs": [
    {
     "name": "stdout",
     "output_type": "stream",
     "text": [
      "F-score:\n"
     ]
    },
    {
     "data": {
      "text/plain": [
       "Sex         91.514037\n",
       "Pclass      30.135266\n",
       "Embarked    11.716463\n",
       "dtype: float64"
      ]
     },
     "execution_count": 57,
     "metadata": {},
     "output_type": "execute_result"
    }
   ],
   "source": [
    "f_values=pd.Series(f_p_values[0])\n",
    "f_values.index=x_chi.columns\n",
    "print(f'F-score:')\n",
    "f_values.sort_values(ascending=False)"
   ]
  },
  {
   "cell_type": "markdown",
   "id": "406713f4",
   "metadata": {},
   "source": [
    "Both P-value and F-score values indicates that the most important feature is 'Sex', while the least one is 'Embarked'."
   ]
  },
  {
   "cell_type": "code",
   "execution_count": 58,
   "id": "b7adaffe",
   "metadata": {},
   "outputs": [],
   "source": [
    "x=df[['Pclass','Sex','Age','Famil','Embarked']]\n",
    "y=df.iloc[:,1]"
   ]
  },
  {
   "cell_type": "markdown",
   "id": "e84019f7",
   "metadata": {},
   "source": [
    "To work with categorical variables, we need to convert it into numerical one using one-hot encoding method as it is shown below:"
   ]
  },
  {
   "cell_type": "code",
   "execution_count": 59,
   "id": "bc8c95a6",
   "metadata": {},
   "outputs": [],
   "source": [
    "def dummies(df,z):\n",
    "    state=pd.get_dummies(df[z],drop_first=True)\n",
    "    df=pd.concat([df,state],axis=1)\n",
    "    df.drop([z],axis=1,inplace=True)\n",
    "    return df\n",
    "\n",
    "x=dummies(x,'Sex')\n",
    "x=dummies(x,'Embarked')"
   ]
  },
  {
   "cell_type": "code",
   "execution_count": 60,
   "id": "f0425bd8",
   "metadata": {},
   "outputs": [
    {
     "data": {
      "text/html": [
       "<div>\n",
       "<style scoped>\n",
       "    .dataframe tbody tr th:only-of-type {\n",
       "        vertical-align: middle;\n",
       "    }\n",
       "\n",
       "    .dataframe tbody tr th {\n",
       "        vertical-align: top;\n",
       "    }\n",
       "\n",
       "    .dataframe thead th {\n",
       "        text-align: right;\n",
       "    }\n",
       "</style>\n",
       "<table border=\"1\" class=\"dataframe\">\n",
       "  <thead>\n",
       "    <tr style=\"text-align: right;\">\n",
       "      <th></th>\n",
       "      <th>Pclass</th>\n",
       "      <th>Age</th>\n",
       "      <th>Famil</th>\n",
       "      <th>male</th>\n",
       "      <th>Q</th>\n",
       "      <th>S</th>\n",
       "    </tr>\n",
       "  </thead>\n",
       "  <tbody>\n",
       "    <tr>\n",
       "      <th>0</th>\n",
       "      <td>3</td>\n",
       "      <td>22</td>\n",
       "      <td>2</td>\n",
       "      <td>1</td>\n",
       "      <td>0</td>\n",
       "      <td>1</td>\n",
       "    </tr>\n",
       "    <tr>\n",
       "      <th>1</th>\n",
       "      <td>1</td>\n",
       "      <td>38</td>\n",
       "      <td>2</td>\n",
       "      <td>0</td>\n",
       "      <td>0</td>\n",
       "      <td>0</td>\n",
       "    </tr>\n",
       "    <tr>\n",
       "      <th>2</th>\n",
       "      <td>3</td>\n",
       "      <td>26</td>\n",
       "      <td>1</td>\n",
       "      <td>0</td>\n",
       "      <td>0</td>\n",
       "      <td>1</td>\n",
       "    </tr>\n",
       "    <tr>\n",
       "      <th>3</th>\n",
       "      <td>1</td>\n",
       "      <td>35</td>\n",
       "      <td>2</td>\n",
       "      <td>0</td>\n",
       "      <td>0</td>\n",
       "      <td>1</td>\n",
       "    </tr>\n",
       "    <tr>\n",
       "      <th>4</th>\n",
       "      <td>3</td>\n",
       "      <td>35</td>\n",
       "      <td>1</td>\n",
       "      <td>1</td>\n",
       "      <td>0</td>\n",
       "      <td>1</td>\n",
       "    </tr>\n",
       "  </tbody>\n",
       "</table>\n",
       "</div>"
      ],
      "text/plain": [
       "   Pclass  Age  Famil  male  Q  S\n",
       "0       3   22      2     1  0  1\n",
       "1       1   38      2     0  0  0\n",
       "2       3   26      1     0  0  1\n",
       "3       1   35      2     0  0  1\n",
       "4       3   35      1     1  0  1"
      ]
     },
     "execution_count": 60,
     "metadata": {},
     "output_type": "execute_result"
    }
   ],
   "source": [
    "x.head()"
   ]
  },
  {
   "cell_type": "markdown",
   "id": "741c8881",
   "metadata": {},
   "source": [
    "To normalize the range of independent variables of features we can use feature scaling method - Standardization (Z-score)."
   ]
  },
  {
   "cell_type": "code",
   "execution_count": 61,
   "id": "53a10467",
   "metadata": {},
   "outputs": [
    {
     "name": "stdout",
     "output_type": "stream",
     "text": [
      "Peak to Peak range by column in Raw X:\n",
      "Pclass     2\n",
      "Age       80\n",
      "Famil     10\n",
      "male       1\n",
      "Q          1\n",
      "S          1\n",
      "dtype: int64\n",
      "Peak to Peak range by column in Normalized X:\n",
      "Pclass    2.397420\n",
      "Age       6.049740\n",
      "Famil     6.196577\n",
      "male      1.000000\n",
      "Q         1.000000\n",
      "S         1.000000\n",
      "dtype: float64\n"
     ]
    }
   ],
   "source": [
    "x_scaled=x.copy()\n",
    "col_names=['Pclass','Age','Famil']\n",
    "features=x_scaled[col_names]\n",
    "scaler=StandardScaler()\n",
    "features=scaler.fit_transform(features)\n",
    "\n",
    "x_scaled[col_names]=features\n",
    "print(f\"Peak to Peak range by column in Raw X:\\n{np.ptp(x,axis=0)}\")   \n",
    "print(f\"Peak to Peak range by column in Normalized X:\\n{np.ptp(x_scaled,axis=0)}\")"
   ]
  },
  {
   "cell_type": "code",
   "execution_count": 62,
   "id": "41f90484",
   "metadata": {},
   "outputs": [],
   "source": [
    "x_temp, x_test, y_temp, y_test=train_test_split(x_scaled,y,test_size=0.2,shuffle=True,random_state=123,stratify=y)\n",
    "## Using Stratified Splits for obtaining training set, testing set"
   ]
  },
  {
   "cell_type": "code",
   "execution_count": 63,
   "id": "59fec0ae",
   "metadata": {},
   "outputs": [],
   "source": [
    "x_train, x_valid, y_train, y_valid=train_test_split(x_temp,y_temp,test_size=0.2,shuffle=True,random_state=123,stratify=y_temp)\n",
    "## Using Stratified Splits for obtaining training set, validation set"
   ]
  },
  {
   "cell_type": "code",
   "execution_count": 64,
   "id": "97179e33",
   "metadata": {},
   "outputs": [
    {
     "name": "stdout",
     "output_type": "stream",
     "text": [
      "(568, 6)\n",
      "(143, 6)\n",
      "(178, 6)\n"
     ]
    }
   ],
   "source": [
    "print(x_train.shape,x_valid.shape,x_test.shape,sep='\\n')"
   ]
  },
  {
   "cell_type": "markdown",
   "id": "e3b443fc",
   "metadata": {},
   "source": [
    "Logistic regression has to hyperparameters: polynomial degree and a (alpha) - penalty term for L2 regularization. Firstly, we need to scratch a code for finding optimal degree using training and validation set."
   ]
  },
  {
   "cell_type": "code",
   "execution_count": 65,
   "id": "593a0557",
   "metadata": {},
   "outputs": [
    {
     "name": "stdout",
     "output_type": "stream",
     "text": [
      "[0.19014084507042253, 0.1637323943661972, 0.15492957746478872, 0.14084507042253522, 0.14964788732394366, 0.1619718309859155, 0.15845070422535212, 0.20598591549295775, 0.20422535211267606, 0.20950704225352113]\n",
      "[0.2097902097902098, 0.1958041958041958, 0.22377622377622378, 0.23776223776223776, 0.2517482517482518, 0.23076923076923078, 0.23076923076923078, 0.25874125874125875, 0.2867132867132867, 0.2727272727272727]\n"
     ]
    }
   ],
   "source": [
    "train_error=[]\n",
    "cv_error=[]\n",
    "\n",
    "for degree in range(1,11):\n",
    "    poly = PolynomialFeatures(degree,include_bias=False)\n",
    "    \n",
    "    x_train_mapped=poly.fit_transform(x_train)\n",
    "    model = linear_model.LogisticRegression()\n",
    "    model.fit(x_train_mapped, y_train)\n",
    "    y_predicted=model.predict(x_train_mapped)\n",
    "    train_err=np.mean(y_predicted != y_train)\n",
    "    train_error.append(train_err)\n",
    "    \n",
    "    x_valid_mapped=poly.fit_transform(x_valid)\n",
    "    y_predicted=model.predict(x_valid_mapped)\n",
    "    cv_err=np.mean(y_predicted != y_valid)\n",
    "    cv_error.append(cv_err)\n",
    "    \n",
    "print(train_error)\n",
    "print(cv_error)\n"
   ]
  },
  {
   "cell_type": "code",
   "execution_count": 66,
   "id": "797350c2",
   "metadata": {},
   "outputs": [
    {
     "data": {
      "text/plain": [
       "2"
      ]
     },
     "execution_count": 66,
     "metadata": {},
     "output_type": "execute_result"
    }
   ],
   "source": [
    "app_degree=np.argmin(cv_error)+1\n",
    "app_degree"
   ]
  },
  {
   "cell_type": "code",
   "execution_count": 67,
   "id": "0f15df15",
   "metadata": {},
   "outputs": [
    {
     "data": {
      "text/plain": [
       "Text(0, 0.5, 'Error')"
      ]
     },
     "execution_count": 67,
     "metadata": {},
     "output_type": "execute_result"
    },
    {
     "data": {
      "image/png": "[encoded data removed]",
      "text/plain": [
       "<Figure size 640x480 with 1 Axes>"
      ]
     },
     "metadata": {},
     "output_type": "display_data"
    }
   ],
   "source": [
    "degrees=range(1,11)\n",
    "plt.plot(degrees,cv_error,c='r')\n",
    "plt.plot(degrees,train_error,c='g')\n",
    "plt.xlabel('Degree')\n",
    "plt.ylabel('Error')"
   ]
  },
  {
   "cell_type": "markdown",
   "id": "9432ebc1",
   "metadata": {},
   "source": [
    "Optimal degree for which error is small for both training and validation set is '2'.\n",
    "Next, we need to find an optimal a value for regularization, which will also decrease error both both sets."
   ]
  },
  {
   "cell_type": "code",
   "execution_count": 68,
   "id": "f6b3fab4",
   "metadata": {},
   "outputs": [
    {
     "name": "stdout",
     "output_type": "stream",
     "text": [
      "[0.3257042253521127, 0.3257042253521127, 0.30985915492957744, 0.27816901408450706, 0.18661971830985916, 0.16549295774647887, 0.16549295774647887, 0.1619718309859155, 0.15845070422535212]\n",
      "[0.3076923076923077, 0.3006993006993007, 0.2937062937062937, 0.26573426573426573, 0.24475524475524477, 0.1958041958041958, 0.1958041958041958, 0.2097902097902098, 0.2097902097902098]\n"
     ]
    }
   ],
   "source": [
    "train_error=[]\n",
    "cv_error=[]\n",
    "lambda_range = np.array([1e-6, 1e-5, 1e-4,1e-3,1e-2, 1e-1,1,10,100])\n",
    "for epoch in range(len(lambda_range)):\n",
    "    poly = PolynomialFeatures(degree=2,include_bias=False)\n",
    "    \n",
    "    x_train_mapped=poly.fit_transform(x_train)\n",
    "    model = linear_model.LogisticRegression(penalty='l2',C=lambda_range[epoch],solver='liblinear')\n",
    "    model.fit(x_train_mapped, y_train)\n",
    "    y_predicted=model.predict(x_train_mapped)\n",
    "    train_err=np.mean(y_predicted != y_train)\n",
    "    train_error.append(train_err)\n",
    "    \n",
    "    x_valid_mapped=poly.fit_transform(x_valid)\n",
    "    y_predicted=model.predict(x_valid_mapped)\n",
    "    cv_err=np.mean(y_predicted != y_valid)\n",
    "    cv_error.append(cv_err)\n",
    "    \n",
    "print(train_error)\n",
    "print(cv_error)\n"
   ]
  },
  {
   "cell_type": "code",
   "execution_count": 69,
   "id": "48efc558",
   "metadata": {},
   "outputs": [
    {
     "data": {
      "text/plain": [
       "0.1"
      ]
     },
     "execution_count": 69,
     "metadata": {},
     "output_type": "execute_result"
    }
   ],
   "source": [
    "app_lambda=lambda_range[np.argmin(cv_error)]\n",
    "app_lambda"
   ]
  },
  {
   "cell_type": "markdown",
   "id": "e2e9a711",
   "metadata": {},
   "source": [
    "a = 0.1"
   ]
  },
  {
   "cell_type": "code",
   "execution_count": 70,
   "id": "b735d5e7",
   "metadata": {},
   "outputs": [
    {
     "data": {
      "text/plain": [
       "0.848314606741573"
      ]
     },
     "execution_count": 70,
     "metadata": {},
     "output_type": "execute_result"
    }
   ],
   "source": [
    "poly=PolynomialFeatures(degree=app_degree,include_bias=False)\n",
    "x_train_mapped=poly.fit_transform(x_train)\n",
    "model=linear_model.LogisticRegression(penalty='l2',C=app_lambda,solver='liblinear')\n",
    "model.fit(x_train_mapped,y_train)\n",
    "x_test_mapped=poly.fit_transform(x_test)\n",
    "y_predicted=model.predict(x_test_mapped)\n",
    "\n",
    "accuracy_score(y_test,y_predicted)"
   ]
  },
  {
   "cell_type": "markdown",
   "id": "466ed227",
   "metadata": {},
   "source": [
    "Final model with tuned hyperparameters showed 84.8% accuracy"
   ]
  },
  {
   "cell_type": "code",
   "execution_count": 71,
   "id": "a29bf803",
   "metadata": {},
   "outputs": [
    {
     "name": "stdout",
     "output_type": "stream",
     "text": [
      "              precision    recall  f1-score   support\n",
      "\n",
      "           0       0.86      0.90      0.88       110\n",
      "           1       0.83      0.76      0.79        68\n",
      "\n",
      "    accuracy                           0.85       178\n",
      "   macro avg       0.84      0.83      0.84       178\n",
      "weighted avg       0.85      0.85      0.85       178\n",
      "\n"
     ]
    }
   ],
   "source": [
    "from sklearn.metrics import classification_report\n",
    "print(classification_report(y_test, y_predicted))"
   ]
  },
  {
   "cell_type": "code",
   "execution_count": null,
   "id": "e27c9fa6",
   "metadata": {},
   "outputs": [],
   "source": []
  }
 ],
 "metadata": {
  "kernelspec": {
   "display_name": "Python 3 (ipykernel)",
   "language": "python",
   "name": "python3"
  },
  "language_info": {
   "codemirror_mode": {
    "name": "ipython",
    "version": 3
   },
   "file_extension": ".py",
   "mimetype": "text/x-python",
   "name": "python",
   "nbconvert_exporter": "python",
   "pygments_lexer": "ipython3",
   "version": "3.9.13"
  }
 },
 "nbformat": 4,
 "nbformat_minor": 5
}
